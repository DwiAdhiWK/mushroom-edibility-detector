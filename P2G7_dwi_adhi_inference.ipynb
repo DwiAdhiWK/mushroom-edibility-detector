{
  "cells": [
    {
      "cell_type": "markdown",
      "metadata": {
        "id": "87NcdCE9SlYb"
      },
      "source": [
        "# Import Module"
      ]
    },
    {
      "cell_type": "code",
      "execution_count": 1,
      "metadata": {
        "id": "7cXvkc-RQD1T"
      },
      "outputs": [],
      "source": [
        "import numpy as np\n",
        "import os\n",
        "from tensorflow.keras.models import load_model\n",
        "from tensorflow.keras.preprocessing.image import load_img, img_to_array\n",
        "import tensorflow_hub as hub"
      ]
    },
    {
      "cell_type": "markdown",
      "metadata": {
        "id": "J6DS7ppCS-Ke"
      },
      "source": [
        "Module yang digunakan untuk adalah numpy os, dan tensorflow"
      ]
    },
    {
      "cell_type": "markdown",
      "metadata": {
        "id": "4RzQcJj9SoUF"
      },
      "source": [
        "# Google Drive Mounting"
      ]
    },
    {
      "cell_type": "code",
      "execution_count": 2,
      "metadata": {
        "colab": {
          "base_uri": "https://localhost:8080/"
        },
        "id": "fVTo-LRdQfsj",
        "outputId": "df1c43b4-58dd-45ef-fd98-0647387c7dcb"
      },
      "outputs": [
        {
          "name": "stdout",
          "output_type": "stream",
          "text": [
            "Drive already mounted at /content/drive; to attempt to forcibly remount, call drive.mount(\"/content/drive\", force_remount=True).\n"
          ]
        }
      ],
      "source": [
        "from google.colab import drive\n",
        "drive.mount('/content/drive')"
      ]
    },
    {
      "cell_type": "markdown",
      "metadata": {
        "id": "ONd4PzgFTFrm"
      },
      "source": [
        "Mounting ke google drive pribadi untuk mengambil gambar enoki dan amanita"
      ]
    },
    {
      "cell_type": "markdown",
      "metadata": {
        "id": "YYMOsuY3SrDO"
      },
      "source": [
        "# Model Inference Function"
      ]
    },
    {
      "cell_type": "code",
      "execution_count": 3,
      "metadata": {
        "id": "SPMNYrpgRP6l"
      },
      "outputs": [],
      "source": [
        "def import_and_predict(image_data, model):\n",
        "    target_size = (224, 224)  # Set the target size to match the model's input shape\n",
        "    image = load_img(image_data, target_size=target_size)  # Load and resize the image\n",
        "    img_array = img_to_array(image)\n",
        "    img_array = np.expand_dims(img_array, 0)  # Create a batch\n",
        "\n",
        "    # Normalize the image\n",
        "    img_array = img_array / 255.0\n",
        "\n",
        "    # Make prediction\n",
        "    predictions = model.predict(img_array)\n",
        "\n",
        "    # Get the class with the highest probability\n",
        "    predicted_class = np.where(predictions > 0.2, 1, 0)[0][0]\n",
        "\n",
        "\n",
        "    class_names = ['edible mushroom sporocarp', 'poisonous mushroom sporocarp']\n",
        "\n",
        "    result = f\"Prediction: {class_names[predicted_class]}\"\n",
        "\n",
        "    return result"
      ]
    },
    {
      "cell_type": "markdown",
      "metadata": {
        "id": "o6my1tPzTM3-"
      },
      "source": [
        "Function ini digunakan muntuk import gambar dari google drive dan melakukan prediksi. Hasil dari function ini adalah class prediksi gambar"
      ]
    },
    {
      "cell_type": "markdown",
      "metadata": {
        "id": "GphEo1-rSuhv"
      },
      "source": [
        "# Redefine Custom Loss"
      ]
    },
    {
      "cell_type": "code",
      "execution_count": 8,
      "metadata": {
        "id": "hlYT107kRvZD"
      },
      "outputs": [],
      "source": [
        "def binary_focal_loss(gamma=2.0, alpha=0.25):\n",
        "    def loss(y_true, y_pred):\n",
        "        epsilon = tf.keras.backend.epsilon()\n",
        "        y_pred = tf.clip_by_value(y_pred, epsilon, 1. - epsilon)\n",
        "        cross_entropy = -y_true * tf.math.log(y_pred) - (1 - y_true) * tf.math.log(1 - y_pred)\n",
        "        weight = alpha * tf.pow(1 - y_pred, gamma) * y_true + (1 - alpha) * tf.pow(y_pred, gamma) * (1 - y_true)\n",
        "        return tf.reduce_mean(weight * cross_entropy)\n",
        "    return loss"
      ]
    },
    {
      "cell_type": "markdown",
      "metadata": {
        "id": "aE2I0r1hTb0X"
      },
      "source": [
        "Function binary_focal_loss perlu di define ulang karena ini adalah custom loss"
      ]
    },
    {
      "cell_type": "markdown",
      "metadata": {
        "id": "QK4A9ot_S3nr"
      },
      "source": [
        "# Initialize custom loss"
      ]
    },
    {
      "cell_type": "code",
      "execution_count": 11,
      "metadata": {
        "id": "cJB9OwMSSHDL"
      },
      "outputs": [],
      "source": [
        "custom_loss_instance = binary_focal_loss(gamma=2.0, alpha=0.25)"
      ]
    },
    {
      "cell_type": "markdown",
      "metadata": {
        "id": "TRMAxzYFTmr2"
      },
      "source": [
        "initialize custom_loss_instance dengan parameter yang digunakan saat training."
      ]
    },
    {
      "cell_type": "markdown",
      "metadata": {
        "id": "jfM2aFrfS7Yn"
      },
      "source": [
        "# Model Prediction"
      ]
    },
    {
      "cell_type": "code",
      "execution_count": 13,
      "metadata": {
        "colab": {
          "base_uri": "https://localhost:8080/",
          "height": 53
        },
        "id": "Dr_aabfwQHNO",
        "outputId": "cd722695-719a-4c27-972a-c0fca418e82e"
      },
      "outputs": [
        {
          "name": "stdout",
          "output_type": "stream",
          "text": [
            "\u001b[1m1/1\u001b[0m \u001b[32m━━━━━━━━━━━━━━━━━━━━\u001b[0m\u001b[37m\u001b[0m \u001b[1m7s\u001b[0m 7s/step\n"
          ]
        },
        {
          "data": {
            "application/vnd.google.colaboratory.intrinsic+json": {
              "type": "string"
            },
            "text/plain": [
              "'Prediction: poisonous mushroom sporocarp'"
            ]
          },
          "execution_count": 13,
          "metadata": {},
          "output_type": "execute_result"
        }
      ],
      "source": [
        "# Load model for inference\n",
        "model = load_model(\n",
        "    'model_E31.keras',\n",
        "    custom_objects={\n",
        "        'KerasLayer': hub.KerasLayer,\n",
        "        'loss': custom_loss_instance\n",
        "    }\n",
        ")\n",
        "# import and predict\n",
        "import_and_predict('/content/drive/My Drive/mushroom_inference/enoki.jpg',model)"
      ]
    },
    {
      "cell_type": "code",
      "execution_count": 15,
      "metadata": {
        "colab": {
          "base_uri": "https://localhost:8080/",
          "height": 53
        },
        "id": "I-TKQHluSg_n",
        "outputId": "99caed3a-b4c8-41ea-a337-69b0c4b72914"
      },
      "outputs": [
        {
          "name": "stdout",
          "output_type": "stream",
          "text": [
            "\u001b[1m1/1\u001b[0m \u001b[32m━━━━━━━━━━━━━━━━━━━━\u001b[0m\u001b[37m\u001b[0m \u001b[1m1s\u001b[0m 596ms/step\n"
          ]
        },
        {
          "data": {
            "application/vnd.google.colaboratory.intrinsic+json": {
              "type": "string"
            },
            "text/plain": [
              "'Prediction: poisonous mushroom sporocarp'"
            ]
          },
          "execution_count": 15,
          "metadata": {},
          "output_type": "execute_result"
        }
      ],
      "source": [
        "import_and_predict('/content/drive/My Drive/mushroom_inference/amanita.jpg',model)"
      ]
    },
    {
      "cell_type": "markdown",
      "metadata": {
        "id": "F9IJ1w0dTuN2"
      },
      "source": [
        "Model memprediksi jamur enoki sebagai jamur beracun yang sebenarnya jamur tersebut aman dimanakan tetapi model dapat memprediksi jamur amanita sebagai jamur yang beracun."
      ]
    }
  ],
  "metadata": {
    "colab": {
      "provenance": [],
      "toc_visible": true
    },
    "kernelspec": {
      "display_name": "Python 3",
      "name": "python3"
    },
    "language_info": {
      "name": "python"
    }
  },
  "nbformat": 4,
  "nbformat_minor": 0
}
